{
 "cells": [
  {
   "attachments": {},
   "cell_type": "markdown",
   "metadata": {},
   "source": [
    "## This notebook is for evaluating the performance of each server from the 3 servers ##\n",
    "1. MySQL\n",
    "2. MSSQL (Microsoft SQL Server)\n",
    "3. PostgreSQL"
   ]
  },
  {
   "attachments": {},
   "cell_type": "markdown",
   "metadata": {},
   "source": [
    "### Importing the required libraries ###"
   ]
  },
  {
   "cell_type": "code",
   "execution_count": 36,
   "metadata": {},
   "outputs": [],
   "source": [
    "import time\n",
    "from dotenv import load_dotenv\n",
    "import os\n",
    "import pandas as pd\n",
    "import matplotlib.pyplot as plt\n",
    "%matplotlib inline\n",
    "import seaborn as sns\n",
    "sns.set()"
   ]
  },
  {
   "attachments": {},
   "cell_type": "markdown",
   "metadata": {},
   "source": [
    "### Setting the dataframe that will contain the results ###"
   ]
  },
  {
   "cell_type": "code",
   "execution_count": 37,
   "metadata": {},
   "outputs": [],
   "source": [
    "servers_performance = pd.DataFrame(columns=[\"MySQL/INSERT\", \"MySQL/UPDATE\", \"MSSQL/INSERT\", \"MSSQL/UPDATE\", \"PostgreSQL/INSERT\", \"PostgreSQL/UPDATE\"],\n",
    "                                   index=range(1, 101))\n",
    "servers_performance.index.name = \"StatementID\""
   ]
  },
  {
   "cell_type": "code",
   "execution_count": 38,
   "metadata": {},
   "outputs": [
    {
     "data": {
      "text/html": [
       "<div>\n",
       "<style scoped>\n",
       "    .dataframe tbody tr th:only-of-type {\n",
       "        vertical-align: middle;\n",
       "    }\n",
       "\n",
       "    .dataframe tbody tr th {\n",
       "        vertical-align: top;\n",
       "    }\n",
       "\n",
       "    .dataframe thead th {\n",
       "        text-align: right;\n",
       "    }\n",
       "</style>\n",
       "<table border=\"1\" class=\"dataframe\">\n",
       "  <thead>\n",
       "    <tr style=\"text-align: right;\">\n",
       "      <th></th>\n",
       "      <th>MySQL/INSERT</th>\n",
       "      <th>MySQL/UPDATE</th>\n",
       "      <th>MSSQL/INSERT</th>\n",
       "      <th>MSSQL/UPDATE</th>\n",
       "      <th>PostgreSQL/INSERT</th>\n",
       "      <th>PostgreSQL/UPDATE</th>\n",
       "    </tr>\n",
       "    <tr>\n",
       "      <th>StatementID</th>\n",
       "      <th></th>\n",
       "      <th></th>\n",
       "      <th></th>\n",
       "      <th></th>\n",
       "      <th></th>\n",
       "      <th></th>\n",
       "    </tr>\n",
       "  </thead>\n",
       "  <tbody>\n",
       "    <tr>\n",
       "      <th>1</th>\n",
       "      <td>NaN</td>\n",
       "      <td>NaN</td>\n",
       "      <td>NaN</td>\n",
       "      <td>NaN</td>\n",
       "      <td>NaN</td>\n",
       "      <td>NaN</td>\n",
       "    </tr>\n",
       "    <tr>\n",
       "      <th>2</th>\n",
       "      <td>NaN</td>\n",
       "      <td>NaN</td>\n",
       "      <td>NaN</td>\n",
       "      <td>NaN</td>\n",
       "      <td>NaN</td>\n",
       "      <td>NaN</td>\n",
       "    </tr>\n",
       "    <tr>\n",
       "      <th>3</th>\n",
       "      <td>NaN</td>\n",
       "      <td>NaN</td>\n",
       "      <td>NaN</td>\n",
       "      <td>NaN</td>\n",
       "      <td>NaN</td>\n",
       "      <td>NaN</td>\n",
       "    </tr>\n",
       "    <tr>\n",
       "      <th>4</th>\n",
       "      <td>NaN</td>\n",
       "      <td>NaN</td>\n",
       "      <td>NaN</td>\n",
       "      <td>NaN</td>\n",
       "      <td>NaN</td>\n",
       "      <td>NaN</td>\n",
       "    </tr>\n",
       "    <tr>\n",
       "      <th>5</th>\n",
       "      <td>NaN</td>\n",
       "      <td>NaN</td>\n",
       "      <td>NaN</td>\n",
       "      <td>NaN</td>\n",
       "      <td>NaN</td>\n",
       "      <td>NaN</td>\n",
       "    </tr>\n",
       "    <tr>\n",
       "      <th>...</th>\n",
       "      <td>...</td>\n",
       "      <td>...</td>\n",
       "      <td>...</td>\n",
       "      <td>...</td>\n",
       "      <td>...</td>\n",
       "      <td>...</td>\n",
       "    </tr>\n",
       "    <tr>\n",
       "      <th>96</th>\n",
       "      <td>NaN</td>\n",
       "      <td>NaN</td>\n",
       "      <td>NaN</td>\n",
       "      <td>NaN</td>\n",
       "      <td>NaN</td>\n",
       "      <td>NaN</td>\n",
       "    </tr>\n",
       "    <tr>\n",
       "      <th>97</th>\n",
       "      <td>NaN</td>\n",
       "      <td>NaN</td>\n",
       "      <td>NaN</td>\n",
       "      <td>NaN</td>\n",
       "      <td>NaN</td>\n",
       "      <td>NaN</td>\n",
       "    </tr>\n",
       "    <tr>\n",
       "      <th>98</th>\n",
       "      <td>NaN</td>\n",
       "      <td>NaN</td>\n",
       "      <td>NaN</td>\n",
       "      <td>NaN</td>\n",
       "      <td>NaN</td>\n",
       "      <td>NaN</td>\n",
       "    </tr>\n",
       "    <tr>\n",
       "      <th>99</th>\n",
       "      <td>NaN</td>\n",
       "      <td>NaN</td>\n",
       "      <td>NaN</td>\n",
       "      <td>NaN</td>\n",
       "      <td>NaN</td>\n",
       "      <td>NaN</td>\n",
       "    </tr>\n",
       "    <tr>\n",
       "      <th>100</th>\n",
       "      <td>NaN</td>\n",
       "      <td>NaN</td>\n",
       "      <td>NaN</td>\n",
       "      <td>NaN</td>\n",
       "      <td>NaN</td>\n",
       "      <td>NaN</td>\n",
       "    </tr>\n",
       "  </tbody>\n",
       "</table>\n",
       "<p>100 rows × 6 columns</p>\n",
       "</div>"
      ],
      "text/plain": [
       "            MySQL/INSERT MySQL/UPDATE MSSQL/INSERT MSSQL/UPDATE  \\\n",
       "StatementID                                                       \n",
       "1                    NaN          NaN          NaN          NaN   \n",
       "2                    NaN          NaN          NaN          NaN   \n",
       "3                    NaN          NaN          NaN          NaN   \n",
       "4                    NaN          NaN          NaN          NaN   \n",
       "5                    NaN          NaN          NaN          NaN   \n",
       "...                  ...          ...          ...          ...   \n",
       "96                   NaN          NaN          NaN          NaN   \n",
       "97                   NaN          NaN          NaN          NaN   \n",
       "98                   NaN          NaN          NaN          NaN   \n",
       "99                   NaN          NaN          NaN          NaN   \n",
       "100                  NaN          NaN          NaN          NaN   \n",
       "\n",
       "            PostgreSQL/INSERT PostgreSQL/UPDATE  \n",
       "StatementID                                      \n",
       "1                         NaN               NaN  \n",
       "2                         NaN               NaN  \n",
       "3                         NaN               NaN  \n",
       "4                         NaN               NaN  \n",
       "5                         NaN               NaN  \n",
       "...                       ...               ...  \n",
       "96                        NaN               NaN  \n",
       "97                        NaN               NaN  \n",
       "98                        NaN               NaN  \n",
       "99                        NaN               NaN  \n",
       "100                       NaN               NaN  \n",
       "\n",
       "[100 rows x 6 columns]"
      ]
     },
     "execution_count": 38,
     "metadata": {},
     "output_type": "execute_result"
    }
   ],
   "source": [
    "servers_performance"
   ]
  },
  {
   "attachments": {},
   "cell_type": "markdown",
   "metadata": {},
   "source": [
    "### Choose 2 statements to evaluate the performance using them ###"
   ]
  },
  {
   "cell_type": "code",
   "execution_count": 39,
   "metadata": {},
   "outputs": [],
   "source": [
    "add_record = \"\"\"INSERT INTO Products VALUES('P1', 1500, 100);\"\"\"\n",
    "\n",
    "update_record = \"\"\"UPDATE Products SET ItemsInStock = 95 WHERE ProductID = 'P1';\"\"\""
   ]
  },
  {
   "attachments": {},
   "cell_type": "markdown",
   "metadata": {},
   "source": [
    "### MySQL Server ###"
   ]
  },
  {
   "cell_type": "code",
   "execution_count": 40,
   "metadata": {},
   "outputs": [],
   "source": [
    "load_dotenv()\n",
    "ENV_MYSQL_USER = os.getenv('MYSQL_USER')\n",
    "ENV_MYSQL_PASSWORD = os.getenv('MYSQL_PASSWORD')\n",
    "ENV_MYSQL_HOST = os.getenv('MYSQL_HOST')\n",
    "ENV_MYSQL_DATABASE = os.getenv('MYSQL_DATABASE')"
   ]
  },
  {
   "cell_type": "code",
   "execution_count": 41,
   "metadata": {},
   "outputs": [],
   "source": [
    "import mysql.connector as connector\n",
    "\n",
    "# Connect to the database\n",
    "connection = connector.connect(user=ENV_MYSQL_USER,\n",
    "                        password=ENV_MYSQL_PASSWORD,\n",
    "                        host=ENV_MYSQL_HOST,\n",
    "                        database=ENV_MYSQL_DATABASE)"
   ]
  },
  {
   "cell_type": "code",
   "execution_count": 42,
   "metadata": {},
   "outputs": [],
   "source": [
    "# Create a link \"cursor\" between MySQL and Python\n",
    "cursor = connection.cursor()"
   ]
  },
  {
   "cell_type": "code",
   "execution_count": 43,
   "metadata": {},
   "outputs": [],
   "source": [
    "for i in range(100):\n",
    "    # inserting performance\n",
    "    start_time = time.time()\n",
    "    cursor.execute(add_record)\n",
    "    end_time = time.time()\n",
    "    total_time = end_time - start_time\n",
    "    total_time_in_msec = total_time*1000\n",
    "    servers_performance.iloc[i, 0] = total_time_in_msec\n",
    "\n",
    "    # updating performance\n",
    "    start_time = time.time()\n",
    "    cursor.execute(update_record)\n",
    "    end_time = time.time()\n",
    "    total_time = end_time - start_time\n",
    "    total_time_in_msec = total_time*1000\n",
    "    servers_performance.iloc[i, 1] = total_time_in_msec\n",
    "\n",
    "    cursor.execute(\"\"\"DELETE FROM Products;\"\"\")\n"
   ]
  },
  {
   "cell_type": "code",
   "execution_count": 44,
   "metadata": {},
   "outputs": [],
   "source": [
    "cursor.close()\n",
    "connection.close()"
   ]
  },
  {
   "attachments": {},
   "cell_type": "markdown",
   "metadata": {},
   "source": [
    "### MSSQL ###"
   ]
  },
  {
   "cell_type": "code",
   "execution_count": 45,
   "metadata": {},
   "outputs": [],
   "source": [
    "load_dotenv()\n",
    "ENV_MSSQL_SERVER = os.getenv('MSSQL_SERVER')\n",
    "\n",
    "ENV_MSSQL_DATABASE = os.getenv('MSSQL_DATABASE')"
   ]
  },
  {
   "cell_type": "code",
   "execution_count": 46,
   "metadata": {},
   "outputs": [],
   "source": [
    "import pyodbc\n",
    "\n",
    "# Connect to the database using Windows authentication\n",
    "connection = pyodbc.connect('DRIVER={SQL Server};SERVER='+ENV_MSSQL_SERVER+';DATABASE='+ENV_MYSQL_DATABASE+';Trusted_Connection=yes;')"
   ]
  },
  {
   "cell_type": "code",
   "execution_count": 47,
   "metadata": {},
   "outputs": [],
   "source": [
    "# Create a link \"cursor\" between MSSQL and Python\n",
    "cursor = connection.cursor()"
   ]
  },
  {
   "cell_type": "code",
   "execution_count": 48,
   "metadata": {},
   "outputs": [],
   "source": [
    "for i in range(100):\n",
    "    # inserting performance\n",
    "    start_time = time.time()\n",
    "    cursor.execute(add_record)\n",
    "    end_time = time.time()\n",
    "    total_time = end_time - start_time\n",
    "    total_time_in_msec = total_time*1000\n",
    "    servers_performance.iloc[i, 2] = total_time_in_msec\n",
    "\n",
    "    # updating performance\n",
    "    start_time = time.time()\n",
    "    cursor.execute(update_record)\n",
    "    end_time = time.time()\n",
    "    total_time = end_time - start_time\n",
    "    total_time_in_msec = total_time*1000\n",
    "    servers_performance.iloc[i, 3] = total_time_in_msec\n",
    "\n",
    "    cursor.execute(\"\"\"DELETE FROM Products;\"\"\")\n"
   ]
  },
  {
   "cell_type": "code",
   "execution_count": 49,
   "metadata": {},
   "outputs": [],
   "source": [
    "cursor.close()\n",
    "connection.close()"
   ]
  },
  {
   "attachments": {},
   "cell_type": "markdown",
   "metadata": {},
   "source": [
    "### PostgreSQL ###"
   ]
  },
  {
   "cell_type": "code",
   "execution_count": 50,
   "metadata": {},
   "outputs": [],
   "source": [
    "load_dotenv()\n",
    "ENV_POSTGRES_USER = os.getenv('POSTGRES_USER')\n",
    "ENV_POSTGRES_PASSWORD = os.getenv('POSTGRES_PASSWORD')\n",
    "ENV_POSTGRES_HOST = os.getenv('POSTGRES_HOST')\n",
    "ENV_POSTGRES_DATABASE = os.getenv('POSTGRES_DATABASE')\n",
    "ENV_POSTGRES_PORT = os.getenv('POSTGRES_PORT')"
   ]
  },
  {
   "cell_type": "code",
   "execution_count": 51,
   "metadata": {},
   "outputs": [],
   "source": [
    "import psycopg2\n",
    "\n",
    "# Connect to the database\n",
    "connection = psycopg2.connect(host=ENV_POSTGRES_HOST,\n",
    "                                port=ENV_POSTGRES_PORT,\n",
    "                                database=ENV_POSTGRES_DATABASE,\n",
    "                                user=ENV_POSTGRES_USER,\n",
    "                                password=ENV_POSTGRES_PASSWORD)"
   ]
  },
  {
   "cell_type": "code",
   "execution_count": 52,
   "metadata": {},
   "outputs": [],
   "source": [
    "# Create a link \"cursor\" between PostgreSQL and Python\n",
    "cursor = connection.cursor()"
   ]
  },
  {
   "cell_type": "code",
   "execution_count": 53,
   "metadata": {},
   "outputs": [],
   "source": [
    "for i in range(100):\n",
    "    # inserting performance\n",
    "    start_time = time.time()\n",
    "    cursor.execute(add_record)\n",
    "    end_time = time.time()\n",
    "    total_time = end_time - start_time\n",
    "    total_time_in_msec = total_time*1000\n",
    "    servers_performance.iloc[i, 4] = total_time_in_msec\n",
    "\n",
    "    # updating performance\n",
    "    start_time = time.time()\n",
    "    cursor.execute(update_record)\n",
    "    end_time = time.time()\n",
    "    total_time = end_time - start_time\n",
    "    total_time_in_msec = total_time*1000\n",
    "    servers_performance.iloc[i, 5] = total_time_in_msec\n",
    "\n",
    "    cursor.execute(\"\"\"DELETE FROM Products;\"\"\")"
   ]
  },
  {
   "attachments": {},
   "cell_type": "markdown",
   "metadata": {},
   "source": [
    "### Statistics ###"
   ]
  },
  {
   "cell_type": "code",
   "execution_count": 54,
   "metadata": {},
   "outputs": [
    {
     "data": {
      "text/html": [
       "<div>\n",
       "<style scoped>\n",
       "    .dataframe tbody tr th:only-of-type {\n",
       "        vertical-align: middle;\n",
       "    }\n",
       "\n",
       "    .dataframe tbody tr th {\n",
       "        vertical-align: top;\n",
       "    }\n",
       "\n",
       "    .dataframe thead th {\n",
       "        text-align: right;\n",
       "    }\n",
       "</style>\n",
       "<table border=\"1\" class=\"dataframe\">\n",
       "  <thead>\n",
       "    <tr style=\"text-align: right;\">\n",
       "      <th></th>\n",
       "      <th>MySQL/INSERT</th>\n",
       "      <th>MySQL/UPDATE</th>\n",
       "      <th>MSSQL/INSERT</th>\n",
       "      <th>MSSQL/UPDATE</th>\n",
       "      <th>PostgreSQL/INSERT</th>\n",
       "      <th>PostgreSQL/UPDATE</th>\n",
       "    </tr>\n",
       "    <tr>\n",
       "      <th>StatementID</th>\n",
       "      <th></th>\n",
       "      <th></th>\n",
       "      <th></th>\n",
       "      <th></th>\n",
       "      <th></th>\n",
       "      <th></th>\n",
       "    </tr>\n",
       "  </thead>\n",
       "  <tbody>\n",
       "    <tr>\n",
       "      <th>1</th>\n",
       "      <td>2.989292</td>\n",
       "      <td>0.0</td>\n",
       "      <td>14.630556</td>\n",
       "      <td>110.212088</td>\n",
       "      <td>2.991915</td>\n",
       "      <td>1.996517</td>\n",
       "    </tr>\n",
       "    <tr>\n",
       "      <th>2</th>\n",
       "      <td>0.0</td>\n",
       "      <td>0.0</td>\n",
       "      <td>0.322342</td>\n",
       "      <td>0.329971</td>\n",
       "      <td>0.0</td>\n",
       "      <td>0.997305</td>\n",
       "    </tr>\n",
       "    <tr>\n",
       "      <th>3</th>\n",
       "      <td>0.0</td>\n",
       "      <td>0.991821</td>\n",
       "      <td>0.0</td>\n",
       "      <td>0.0</td>\n",
       "      <td>0.0</td>\n",
       "      <td>0.0</td>\n",
       "    </tr>\n",
       "    <tr>\n",
       "      <th>4</th>\n",
       "      <td>0.0</td>\n",
       "      <td>0.998497</td>\n",
       "      <td>0.0</td>\n",
       "      <td>0.0</td>\n",
       "      <td>0.0</td>\n",
       "      <td>0.996828</td>\n",
       "    </tr>\n",
       "    <tr>\n",
       "      <th>5</th>\n",
       "      <td>0.0</td>\n",
       "      <td>1.000881</td>\n",
       "      <td>0.999928</td>\n",
       "      <td>0.0</td>\n",
       "      <td>0.0</td>\n",
       "      <td>0.997782</td>\n",
       "    </tr>\n",
       "    <tr>\n",
       "      <th>...</th>\n",
       "      <td>...</td>\n",
       "      <td>...</td>\n",
       "      <td>...</td>\n",
       "      <td>...</td>\n",
       "      <td>...</td>\n",
       "      <td>...</td>\n",
       "    </tr>\n",
       "    <tr>\n",
       "      <th>96</th>\n",
       "      <td>0.0</td>\n",
       "      <td>0.0</td>\n",
       "      <td>0.998259</td>\n",
       "      <td>0.0</td>\n",
       "      <td>0.227213</td>\n",
       "      <td>0.306129</td>\n",
       "    </tr>\n",
       "    <tr>\n",
       "      <th>97</th>\n",
       "      <td>0.989199</td>\n",
       "      <td>0.0</td>\n",
       "      <td>0.0</td>\n",
       "      <td>0.0</td>\n",
       "      <td>0.221491</td>\n",
       "      <td>0.294685</td>\n",
       "    </tr>\n",
       "    <tr>\n",
       "      <th>98</th>\n",
       "      <td>0.229836</td>\n",
       "      <td>0.302553</td>\n",
       "      <td>0.0</td>\n",
       "      <td>0.997066</td>\n",
       "      <td>0.216246</td>\n",
       "      <td>0.136852</td>\n",
       "    </tr>\n",
       "    <tr>\n",
       "      <th>99</th>\n",
       "      <td>0.226259</td>\n",
       "      <td>0.307083</td>\n",
       "      <td>0.0</td>\n",
       "      <td>0.0</td>\n",
       "      <td>0.0</td>\n",
       "      <td>1.000881</td>\n",
       "    </tr>\n",
       "    <tr>\n",
       "      <th>100</th>\n",
       "      <td>0.0</td>\n",
       "      <td>0.999212</td>\n",
       "      <td>0.0</td>\n",
       "      <td>0.0</td>\n",
       "      <td>0.0</td>\n",
       "      <td>0.0</td>\n",
       "    </tr>\n",
       "  </tbody>\n",
       "</table>\n",
       "<p>100 rows × 6 columns</p>\n",
       "</div>"
      ],
      "text/plain": [
       "            MySQL/INSERT MySQL/UPDATE MSSQL/INSERT MSSQL/UPDATE  \\\n",
       "StatementID                                                       \n",
       "1               2.989292          0.0    14.630556   110.212088   \n",
       "2                    0.0          0.0     0.322342     0.329971   \n",
       "3                    0.0     0.991821          0.0          0.0   \n",
       "4                    0.0     0.998497          0.0          0.0   \n",
       "5                    0.0     1.000881     0.999928          0.0   \n",
       "...                  ...          ...          ...          ...   \n",
       "96                   0.0          0.0     0.998259          0.0   \n",
       "97              0.989199          0.0          0.0          0.0   \n",
       "98              0.229836     0.302553          0.0     0.997066   \n",
       "99              0.226259     0.307083          0.0          0.0   \n",
       "100                  0.0     0.999212          0.0          0.0   \n",
       "\n",
       "            PostgreSQL/INSERT PostgreSQL/UPDATE  \n",
       "StatementID                                      \n",
       "1                    2.991915          1.996517  \n",
       "2                         0.0          0.997305  \n",
       "3                         0.0               0.0  \n",
       "4                         0.0          0.996828  \n",
       "5                         0.0          0.997782  \n",
       "...                       ...               ...  \n",
       "96                   0.227213          0.306129  \n",
       "97                   0.221491          0.294685  \n",
       "98                   0.216246          0.136852  \n",
       "99                        0.0          1.000881  \n",
       "100                       0.0               0.0  \n",
       "\n",
       "[100 rows x 6 columns]"
      ]
     },
     "execution_count": 54,
     "metadata": {},
     "output_type": "execute_result"
    }
   ],
   "source": [
    "servers_performance"
   ]
  },
  {
   "cell_type": "code",
   "execution_count": 55,
   "metadata": {},
   "outputs": [
    {
     "data": {
      "text/html": [
       "<div>\n",
       "<style scoped>\n",
       "    .dataframe tbody tr th:only-of-type {\n",
       "        vertical-align: middle;\n",
       "    }\n",
       "\n",
       "    .dataframe tbody tr th {\n",
       "        vertical-align: top;\n",
       "    }\n",
       "\n",
       "    .dataframe thead th {\n",
       "        text-align: right;\n",
       "    }\n",
       "</style>\n",
       "<table border=\"1\" class=\"dataframe\">\n",
       "  <thead>\n",
       "    <tr style=\"text-align: right;\">\n",
       "      <th></th>\n",
       "      <th>MySQL/INSERT</th>\n",
       "      <th>MySQL/UPDATE</th>\n",
       "      <th>MSSQL/INSERT</th>\n",
       "      <th>MSSQL/UPDATE</th>\n",
       "      <th>PostgreSQL/INSERT</th>\n",
       "      <th>PostgreSQL/UPDATE</th>\n",
       "    </tr>\n",
       "  </thead>\n",
       "  <tbody>\n",
       "    <tr>\n",
       "      <th>count</th>\n",
       "      <td>100.0</td>\n",
       "      <td>100.0</td>\n",
       "      <td>100.0</td>\n",
       "      <td>100.0</td>\n",
       "      <td>100.0</td>\n",
       "      <td>100.0</td>\n",
       "    </tr>\n",
       "    <tr>\n",
       "      <th>unique</th>\n",
       "      <td>43.0</td>\n",
       "      <td>42.0</td>\n",
       "      <td>37.0</td>\n",
       "      <td>29.0</td>\n",
       "      <td>41.0</td>\n",
       "      <td>45.0</td>\n",
       "    </tr>\n",
       "    <tr>\n",
       "      <th>top</th>\n",
       "      <td>0.0</td>\n",
       "      <td>0.0</td>\n",
       "      <td>0.0</td>\n",
       "      <td>0.0</td>\n",
       "      <td>0.0</td>\n",
       "      <td>0.0</td>\n",
       "    </tr>\n",
       "    <tr>\n",
       "      <th>freq</th>\n",
       "      <td>54.0</td>\n",
       "      <td>56.0</td>\n",
       "      <td>60.0</td>\n",
       "      <td>65.0</td>\n",
       "      <td>55.0</td>\n",
       "      <td>48.0</td>\n",
       "    </tr>\n",
       "  </tbody>\n",
       "</table>\n",
       "</div>"
      ],
      "text/plain": [
       "        MySQL/INSERT  MySQL/UPDATE  MSSQL/INSERT  MSSQL/UPDATE  \\\n",
       "count          100.0         100.0         100.0         100.0   \n",
       "unique          43.0          42.0          37.0          29.0   \n",
       "top              0.0           0.0           0.0           0.0   \n",
       "freq            54.0          56.0          60.0          65.0   \n",
       "\n",
       "        PostgreSQL/INSERT  PostgreSQL/UPDATE  \n",
       "count               100.0              100.0  \n",
       "unique               41.0               45.0  \n",
       "top                   0.0                0.0  \n",
       "freq                 55.0               48.0  "
      ]
     },
     "execution_count": 55,
     "metadata": {},
     "output_type": "execute_result"
    }
   ],
   "source": [
    "servers_performance.describe()"
   ]
  },
  {
   "cell_type": "code",
   "execution_count": 56,
   "metadata": {},
   "outputs": [
    {
     "data": {
      "text/plain": [
       "MySQL/INSERT         0.333397\n",
       "MySQL/UPDATE         0.317361\n",
       "MSSQL/INSERT         0.359352\n",
       "MSSQL/UPDATE         1.281676\n",
       "PostgreSQL/INSERT    0.287201\n",
       "PostgreSQL/UPDATE    0.379808\n",
       "dtype: float64"
      ]
     },
     "execution_count": 56,
     "metadata": {},
     "output_type": "execute_result"
    }
   ],
   "source": [
    "servers_performance.mean()"
   ]
  },
  {
   "cell_type": "code",
   "execution_count": 57,
   "metadata": {},
   "outputs": [
    {
     "data": {
      "text/plain": [
       "MySQL/INSERT           2.989292\n",
       "MySQL/UPDATE             1.1127\n",
       "MSSQL/INSERT          14.630556\n",
       "MSSQL/UPDATE         110.212088\n",
       "PostgreSQL/INSERT      2.991915\n",
       "PostgreSQL/UPDATE      1.996517\n",
       "dtype: object"
      ]
     },
     "execution_count": 57,
     "metadata": {},
     "output_type": "execute_result"
    }
   ],
   "source": [
    "servers_performance.max()"
   ]
  },
  {
   "cell_type": "code",
   "execution_count": 58,
   "metadata": {},
   "outputs": [
    {
     "data": {
      "text/plain": [
       "MySQL/INSERT         0.0\n",
       "MySQL/UPDATE         0.0\n",
       "MSSQL/INSERT         0.0\n",
       "MSSQL/UPDATE         0.0\n",
       "PostgreSQL/INSERT    0.0\n",
       "PostgreSQL/UPDATE    0.0\n",
       "dtype: object"
      ]
     },
     "execution_count": 58,
     "metadata": {},
     "output_type": "execute_result"
    }
   ],
   "source": [
    "servers_performance.min()"
   ]
  }
 ],
 "metadata": {
  "kernelspec": {
   "display_name": "Python 3",
   "language": "python",
   "name": "python3"
  },
  "language_info": {
   "codemirror_mode": {
    "name": "ipython",
    "version": 3
   },
   "file_extension": ".py",
   "mimetype": "text/x-python",
   "name": "python",
   "nbconvert_exporter": "python",
   "pygments_lexer": "ipython3",
   "version": "3.11.1"
  },
  "orig_nbformat": 4
 },
 "nbformat": 4,
 "nbformat_minor": 2
}
